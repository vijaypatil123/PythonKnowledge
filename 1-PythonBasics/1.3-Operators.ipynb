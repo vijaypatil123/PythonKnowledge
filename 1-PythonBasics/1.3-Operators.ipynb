{
 "cells": [
  {
   "cell_type": "code",
   "execution_count": 3,
   "metadata": {},
   "outputs": [
    {
     "name": "stdout",
     "output_type": "stream",
     "text": [
      "2.1\n",
      "0.5\n",
      "2.0\n",
      "52.5\n",
      "8\n"
     ]
    }
   ],
   "source": [
    "a= 10.5\n",
    "b=5\n",
    "\n",
    "a1=2\n",
    "b1=3\n",
    "\n",
    "result_Div= a/b\n",
    "result_Mod= a%b\n",
    "result_dubDev = a//b\n",
    "result_Multi = a*b\n",
    "result_DubMulti=a1**b1 ## Exponential b1 rais to b1\n",
    "\n",
    "print(result_Div)\n",
    "print(result_Mod)\n",
    "print(result_dubDev)\n",
    "print(result_Multi)\n",
    "print(result_DubMulti)"
   ]
  },
  {
   "cell_type": "code",
   "execution_count": 7,
   "metadata": {},
   "outputs": [
    {
     "data": {
      "text/plain": [
       "True"
      ]
     },
     "execution_count": 7,
     "metadata": {},
     "output_type": "execute_result"
    }
   ],
   "source": [
    "str = \"Vijay\"\n",
    "str2 = \"vijay\"\n",
    "\n",
    "str==str2"
   ]
  },
  {
   "cell_type": "code",
   "execution_count": 8,
   "metadata": {},
   "outputs": [
    {
     "data": {
      "text/plain": [
       "True"
      ]
     },
     "execution_count": 8,
     "metadata": {},
     "output_type": "execute_result"
    }
   ],
   "source": [
    "str = \"Vijay\"\n",
    "str2 = \"vijay\"\n",
    "\n",
    "str != str2"
   ]
  },
  {
   "cell_type": "code",
   "execution_count": 9,
   "metadata": {},
   "outputs": [
    {
     "data": {
      "text/plain": [
       "False"
      ]
     },
     "execution_count": 9,
     "metadata": {},
     "output_type": "execute_result"
    }
   ],
   "source": [
    "num = 50\n",
    "num2 =60\n",
    "\n",
    "num > num2"
   ]
  },
  {
   "cell_type": "code",
   "execution_count": null,
   "metadata": {},
   "outputs": [],
   "source": []
  }
 ],
 "metadata": {
  "kernelspec": {
   "display_name": "Python 3",
   "language": "python",
   "name": "python3"
  },
  "language_info": {
   "codemirror_mode": {
    "name": "ipython",
    "version": 3
   },
   "file_extension": ".py",
   "mimetype": "text/x-python",
   "name": "python",
   "nbconvert_exporter": "python",
   "pygments_lexer": "ipython3",
   "version": "3.12.8"
  }
 },
 "nbformat": 4,
 "nbformat_minor": 2
}
