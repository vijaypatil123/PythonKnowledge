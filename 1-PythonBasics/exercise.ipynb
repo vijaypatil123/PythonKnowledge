{
 "cells": [
  {
   "cell_type": "code",
   "execution_count": 4,
   "metadata": {},
   "outputs": [
    {
     "name": "stdout",
     "output_type": "stream",
     "text": [
      "18\n"
     ]
    }
   ],
   "source": [
    "def sum_listnumers(numbers):\n",
    "    sum = 0\n",
    "    for i in numbers:\n",
    "        sum = sum + i\n",
    "    return sum\n",
    "\n",
    "numbers =[10, -5, 7, 8, -2] #[1, 2, 3, 4, 5]\n",
    "print(sum_listnumers(numbers))"
   ]
  },
  {
   "cell_type": "code",
   "execution_count": 1,
   "metadata": {},
   "outputs": [
    {
     "name": "stdout",
     "output_type": "stream",
     "text": [
      "hi\n"
     ]
    }
   ],
   "source": [
    "print(\"hi\")"
   ]
  },
  {
   "cell_type": "code",
   "execution_count": 7,
   "metadata": {},
   "outputs": [
    {
     "name": "stdout",
     "output_type": "stream",
     "text": [
      "-1\n"
     ]
    }
   ],
   "source": [
    "def find_largelement(numners):\n",
    "    largenumber = numners[0]\n",
    "\n",
    "    for number in numbers:\n",
    "        if largenumber < number:\n",
    "            largenumber = number\n",
    "    \n",
    "    return largenumber\n",
    "\n",
    "numbers = [-5, -10, -2, -1, -7]\n",
    "print(find_largelement(numbers))\n"
   ]
  },
  {
   "cell_type": "code",
   "execution_count": 3,
   "metadata": {},
   "outputs": [
    {
     "name": "stdout",
     "output_type": "stream",
     "text": [
      "dict_keys([1, 2, 3, 4, 5])\n"
     ]
    }
   ],
   "source": [
    "def deduplication(numbers):\n",
    "    dedup={}\n",
    "    for i in numbers:\n",
    "        dedup[i]=i\n",
    "    return dedup\n",
    "\n",
    "lst = [1, 2, 2, 3, 4, 4, 5]\n",
    "print(deduplication(lst).keys());\n"
   ]
  },
  {
   "cell_type": "code",
   "execution_count": 5,
   "metadata": {},
   "outputs": [
    {
     "name": "stdout",
     "output_type": "stream",
     "text": [
      "True\n"
     ]
    }
   ],
   "source": [
    "def find_iflistunique(numbers):\n",
    "    uniDic = {}\n",
    "    for i in numbers:\n",
    "        if i not in uniDic:\n",
    "            uniDic[i]=i\n",
    "        else:\n",
    "            return False\n",
    "    return True\n",
    "\n",
    "lst = [1, 2, 3, 4, 5]\n",
    "print(find_iflistunique(lst))\n",
    "        \n",
    "\n"
   ]
  },
  {
   "cell_type": "code",
   "execution_count": null,
   "metadata": {},
   "outputs": [],
   "source": []
  }
 ],
 "metadata": {
  "kernelspec": {
   "display_name": "Python 3",
   "language": "python",
   "name": "python3"
  },
  "language_info": {
   "codemirror_mode": {
    "name": "ipython",
    "version": 3
   },
   "file_extension": ".py",
   "mimetype": "text/x-python",
   "name": "python",
   "nbconvert_exporter": "python",
   "pygments_lexer": "ipython3",
   "version": "3.12.8"
  }
 },
 "nbformat": 4,
 "nbformat_minor": 2
}
