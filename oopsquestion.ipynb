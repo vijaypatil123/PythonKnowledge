{
 "cells": [
  {
   "cell_type": "markdown",
   "metadata": {},
   "source": [
    "# Module: OOP Assignments\n",
    "## Lesson: Polymorphism, Abstraction, and Encapsulation\n",
    "### Assignment 1: Polymorphism with Methods\n",
    "\n",
    "Create a base class named `Shape` with a method `area`. Create two derived classes `Circle` and `Square` that override the `area` method. Create a list of `Shape` objects and call the `area` method on each object to demonstrate polymorphism.\n",
    "\n",
    "### Assignment 2: Polymorphism with Function Arguments\n",
    "\n",
    "Create a function named `describe_shape` that takes a `Shape` object as an argument and calls its `area` method. Create objects of `Circle` and `Square` classes and pass them to the `describe_shape` function.\n",
    "\n",
    "### Assignment 3: Abstract Base Class with Abstract Methods\n",
    "\n",
    "Create an abstract base class named `Vehicle` with an abstract method `start_engine`. Create derived classes `Car` and `Bike` that implement the `start_engine` method. Create objects of the derived classes and call the `start_engine` method.\n",
    "\n",
    "### Assignment 4: Abstract Base Class with Concrete Methods\n",
    "\n",
    "In the `Vehicle` class, add a concrete method `fuel_type` that returns a generic fuel type. Override this method in `Car` and `Bike` classes to return specific fuel types. Create objects of the derived classes and call the `fuel_type` method.\n",
    "\n",
    "### Assignment 5: Encapsulation with Private Attributes\n",
    "\n",
    "Create a class named `BankAccount` with private attributes `account_number` and `balance`. Add methods to deposit and withdraw money, and to check the balance. Ensure that the balance cannot be accessed directly.\n",
    "\n",
    "### Assignment 6: Encapsulation with Property Decorators\n",
    "\n",
    "In the `BankAccount` class, use property decorators to get and set the `balance` attribute. Ensure that the balance cannot be set to a negative value.\n",
    "\n",
    "### Assignment 7: Combining Encapsulation and Inheritance\n",
    "\n",
    "Create a base class named `Person` with private attributes `name` and `age`. Add methods to get and set these attributes. Create a derived class named `Student` that adds an attribute `student_id`. Create an object of the `Student` class and test the encapsulation.\n",
    "\n",
    "### Assignment 8: Polymorphism with Inheritance\n",
    "\n",
    "Create a base class named `Animal` with a method `speak`. Create two derived classes `Dog` and `Cat` that override the `speak` method. Create a list of `Animal` objects and call the `speak` method on each object to demonstrate polymorphism.\n",
    "\n",
    "### Assignment 9: Abstract Methods in Base Class\n",
    "\n",
    "Create an abstract base class named `Employee` with an abstract method `calculate_salary`. Create two derived classes `FullTimeEmployee` and `PartTimeEmployee` that implement the `calculate_salary` method. Create objects of the derived classes and call the `calculate_salary` method.\n",
    "\n",
    "### Assignment 10: Encapsulation in Data Classes\n",
    "\n",
    "Create a data class named `Product` with private attributes `product_id`, `name`, and `price`. Add methods to get and set these attributes. Ensure that the price cannot be set to a negative value.\n",
    "\n",
    "### Assignment 11: Polymorphism with Operator Overloading\n",
    "\n",
    "Create a class named `Vector` with attributes `x` and `y`. Overload the `+` operator to add two `Vector` objects. Create objects of the class and test the operator overloading.\n",
    "\n",
    "### Assignment 12: Abstract Properties\n",
    "\n",
    "Create an abstract base class named `Appliance` with an abstract property `power`. Create two derived classes `WashingMachine` and `Refrigerator` that implement the `power` property. Create objects of the derived classes and access the `power` property.\n",
    "\n",
    "### Assignment 13: Encapsulation in Class Hierarchies\n",
    "\n",
    "Create a base class named `Account` with private attributes `account_number` and `balance`. Add methods to get and set these attributes. Create a derived class named `SavingsAccount` that adds an attribute `interest_rate`. Create an object of the `SavingsAccount` class and test the encapsulation.\n",
    "\n",
    "### Assignment 14: Polymorphism with Multiple Inheritance\n",
    "\n",
    "Create a class named `Flyer` with a method `fly`. Create a class named `Swimmer` with a method `swim`. Create a class named `Superhero` that inherits from both `Flyer` and `Swimmer` and overrides both methods. Create an object of the `Superhero` class and call both methods.\n",
    "\n",
    "### Assignment 15: Abstract Methods and Multiple Inheritance\n",
    "\n",
    "Create an abstract base class named `Worker` with an abstract method `work`. Create two derived classes `Engineer` and `Doctor` that implement the `work` method. Create another derived class `Scientist` that inherits from both `Engineer` and `Doctor`. Create an object of the `Scientist` class and call the `work` method."
   ]
  },
  {
   "cell_type": "code",
   "execution_count": 2,
   "metadata": {},
   "outputs": [
    {
     "name": "stdout",
     "output_type": "stream",
     "text": [
      "<class '__main__.Circle'>\n",
      "78.53981633974483\n",
      "<class '__main__.Square'>\n",
      "25\n"
     ]
    }
   ],
   "source": [
    "import math\n",
    "\n",
    "class Shape:\n",
    "    def __init__(self):\n",
    "        pass\n",
    "\n",
    "    def area(self):\n",
    "        pass\n",
    "\n",
    "class Circle(Shape):\n",
    "    def __init__(self,redius):\n",
    "        self.redius= redius\n",
    "        super().__init__()\n",
    "\n",
    "\n",
    "    def area(self):\n",
    "        return math.pi * self.redius**2\n",
    "\n",
    "class Square(Shape):\n",
    "    def __init__(self,edge):\n",
    "        self.edge= edge\n",
    "        super().__init__()\n",
    "\n",
    "\n",
    "    def area(self):\n",
    "        return self.edge **2\n",
    "    \n",
    "shapes = [Circle(5), Square(5)]\n",
    "\n",
    "for shape in shapes:\n",
    "    print(type(shape))\n",
    "    print(shape.area())\n",
    "\n",
    "\n"
   ]
  },
  {
   "cell_type": "code",
   "execution_count": 13,
   "id": "cba3a8cd",
   "metadata": {},
   "outputs": [
    {
     "name": "stdout",
     "output_type": "stream",
     "text": [
      "-------------\n",
      "<class '__main__.Circle'>\n",
      "12.566370614359172\n",
      "-------------\n",
      "<class '__main__.Square'>\n",
      "4\n"
     ]
    }
   ],
   "source": [
    "class Findshape:\n",
    "\n",
    "    def describe_shape(Shapeo):\n",
    "         print(\"-------------\")\n",
    "         print(type(Shapeo))\n",
    "         print(Shapeo.area())\n",
    "\n",
    "obj = Circle(2)\n",
    "objsq = Square(2)\n",
    "Findshape.describe_shape(obj)\n",
    "Findshape.describe_shape(objsq)"
   ]
  },
  {
   "cell_type": "code",
   "execution_count": 1,
   "id": "aa5c0920",
   "metadata": {},
   "outputs": [
    {
     "name": "stdout",
     "output_type": "stream",
     "text": [
      "Disel Fule\n",
      "Petrrol Fule\n",
      "It has wheels\n",
      "It has wheels\n"
     ]
    }
   ],
   "source": [
    "from abc import ABC,abstractmethod\n",
    "class Vehical:\n",
    "    @abstractmethod\n",
    "    def start_engine(self):\n",
    "        pass\n",
    "    def fule_type(self):\n",
    "        print(\"No Fule\")\n",
    "\n",
    "    def hasWheels(self):\n",
    "        print(\"It has wheels\")\n",
    "\n",
    "class Car(Vehical):\n",
    "    def start_engine(self,sound):\n",
    "        print(sound)\n",
    "\n",
    "    def fule_type(self):\n",
    "        print(\"Disel Fule\")\n",
    "\n",
    "    \n",
    "\n",
    "\n",
    "class Bike(Vehical):\n",
    "    def start_engine(self,sound):\n",
    "        print(sound)\n",
    "    def fule_type(self):\n",
    "        print(\"Petrrol Fule\")\n",
    "\n",
    "\n",
    "objcar = Car()\n",
    "objbk = Bike()\n",
    "\n",
    "objcar.fule_type()\n",
    "objbk.fule_type()\n",
    "objbk.hasWheels()\n",
    "objcar.hasWheels()"
   ]
  },
  {
   "cell_type": "code",
   "execution_count": null,
   "id": "e60fb070",
   "metadata": {},
   "outputs": [
    {
     "name": "stdout",
     "output_type": "stream",
     "text": [
      "500\n",
      "Here\n",
      "500\n",
      "Here\n",
      "500\n"
     ]
    }
   ],
   "source": [
    "class BankAccount:\n",
    "    def __init__(self,accountnumber, balance):\n",
    "        self.__accountnumber = accountnumber\n",
    "        self.__balance = balance\n",
    "\n",
    "    def getBalance(self):\n",
    "        return self.__balance\n",
    "    \n",
    "    def withdraw(self, amount):\n",
    "        if self.__balance > amount:\n",
    "            self.__balance-=amount\n",
    "        else:\n",
    "            return \"Not enough balance\"\n",
    "\n",
    "objBankAccount = BankAccount(12345,1000)  \n",
    "objBankAccount.withdraw(500)    \n",
    "print(objBankAccount.getBalance())\n",
    "objBankAccount.withdraw(500)    \n",
    "print(objBankAccount.getBalance())\n",
    "objBankAccount.withdraw(500)    \n",
    "print(objBankAccount.getBalance())\n",
    "\n",
    "\n",
    "        "
   ]
  },
  {
   "cell_type": "code",
   "execution_count": 9,
   "id": "647d997f",
   "metadata": {},
   "outputs": [
    {
     "name": "stdout",
     "output_type": "stream",
     "text": [
      "Current balance is 500\n",
      "Current balance is 2000\n",
      "Current balance is 2100\n",
      "Amount can't be negative\n"
     ]
    }
   ],
   "source": [
    "class BankAccount:\n",
    "    def __init__(self, accountnumber, balance):\n",
    "        self.__accountnumber = accountnumber\n",
    "        self.__balance = balance\n",
    "    \n",
    "    @property\n",
    "    def balance(self):\n",
    "        return self.__balance\n",
    "    \n",
    "    @balance.setter\n",
    "    def balance(self, amount):\n",
    "        if amount<0:\n",
    "            print(\"Amount can't be negative\")\n",
    "        else:\n",
    "            self.__balance=amount\n",
    "\n",
    "    def deposit(self, amount):\n",
    "        if amount>0:\n",
    "            self.__balance+=amount\n",
    "        else:\n",
    "            print(\"Amount can't be negative\")\n",
    "\n",
    "    def withdraw(self, amount):\n",
    "        if self.__balance > amount:\n",
    "            self.__balance-=amount\n",
    "        else:\n",
    "            return \"Not enough balance\"\n",
    "        \n",
    "objBankAccount = BankAccount(12345,1000)  \n",
    "objBankAccount.withdraw(500) \n",
    "print(f\"Current balance is {objBankAccount.balance}\")\n",
    "objBankAccount.balance = 2000\n",
    "print(f\"Current balance is {objBankAccount.balance}\")\n",
    "objBankAccount.deposit(100)\n",
    "print(f\"Current balance is {objBankAccount.balance}\")\n",
    "objBankAccount.balance = -1\n"
   ]
  },
  {
   "cell_type": "code",
   "execution_count": 4,
   "id": "3f7b2733",
   "metadata": {},
   "outputs": [
    {
     "name": "stdout",
     "output_type": "stream",
     "text": [
      "Student Name is Vijay and his age is 20, also his Id is 123\n"
     ]
    }
   ],
   "source": [
    "class Person:\n",
    "    def __init__(self, name, age):\n",
    "        self.__name = name\n",
    "        self.__age= age\n",
    "\n",
    "    def getName(self):\n",
    "        return self.__name\n",
    "    \n",
    "    def setName(self, name):\n",
    "        self.__name=name\n",
    "\n",
    "    def getAge(self):\n",
    "        return self.__age\n",
    "    \n",
    "    def setAge(self,age):\n",
    "        self.__age=age\n",
    "\n",
    "class Student(Person):\n",
    "    def __init__(self, name, age, studentId):\n",
    "        super().__init__(name, age)\n",
    "        self.__studentId = studentId\n",
    "\n",
    "    def getStudentId(self):\n",
    "        return self.__studentId\n",
    "\n",
    "\n",
    "stud = Student(\"Vijay\",20,123)\n",
    "\n",
    "print(f\"Student Name is {stud.getName()} and his age is {stud.getAge()}, also his Id is {stud.getStudentId()}\")"
   ]
  },
  {
   "cell_type": "code",
   "execution_count": null,
   "id": "ec7337e5",
   "metadata": {},
   "outputs": [],
   "source": []
  }
 ],
 "metadata": {
  "kernelspec": {
   "display_name": "Python 3",
   "language": "python",
   "name": "python3"
  },
  "language_info": {
   "codemirror_mode": {
    "name": "ipython",
    "version": 3
   },
   "file_extension": ".py",
   "mimetype": "text/x-python",
   "name": "python",
   "nbconvert_exporter": "python",
   "pygments_lexer": "ipython3",
   "version": "3.12.8"
  }
 },
 "nbformat": 4,
 "nbformat_minor": 5
}
